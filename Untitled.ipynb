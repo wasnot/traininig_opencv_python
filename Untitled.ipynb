{
 "cells": [
  {
   "cell_type": "code",
   "execution_count": 1,
   "metadata": {
    "collapsed": true
   },
   "outputs": [],
   "source": [
    "import numpy as np\n",
    "# this is the main openCV class, the python binding file should be in /pythonXX/Lib/site-packages\n",
    "import cv2\n",
    "from matplotlib import pyplot as plt"
   ]
  },
  {
   "cell_type": "code",
   "execution_count": 2,
   "metadata": {
    "collapsed": false
   },
   "outputs": [],
   "source": [
    "def draw(image):\n",
    "        # this is matplotlib solution (Figure 1)\n",
    "        plt.imshow(image, 'gray')\n",
    "        plt.xticks([]), plt.yticks([])\n",
    "        plt.show()"
   ]
  },
  {
   "cell_type": "code",
   "execution_count": 133,
   "metadata": {
    "collapsed": false
   },
   "outputs": [],
   "source": [
    "orig = cv2.imread('fuku.jpg')\n",
    "lines = orig.copy()\n",
    "canny = orig.copy()\n",
    "\n",
    "# 輪郭を抽出する\n",
    "canny = cv2.cvtColor(canny, cv2.COLOR_BGR2GRAY)\n",
    "canny = cv2.GaussianBlur(canny, (5, 5), 0)\n",
    "canny = cv2.Canny(canny, 200, 150) # 50, 100\n",
    "draw(canny)"
   ]
  },
  {
   "cell_type": "code",
   "execution_count": 122,
   "metadata": {
    "collapsed": false
   },
   "outputs": [],
   "source": [
    "img, cnts, hie = cv2.findContours(canny, cv2.RETR_LIST, cv2.CHAIN_APPROX_SIMPLE)  # 抽出した輪郭に近似する直線（？）を探す。\n",
    "cnts.sort(key=cv2.contourArea, reverse=True)  # 面積が大きい順に並べ替える。\n"
   ]
  },
  {
   "cell_type": "code",
   "execution_count": 11,
   "metadata": {
    "collapsed": false
   },
   "outputs": [],
   "source": [
    "\n",
    "warp = None\n",
    "for i, c in enumerate(cnts):\n",
    "    arclen = cv2.arcLength(c, True)\n",
    "    approx = cv2.approxPolyDP(c, 0.02*arclen, True)\n",
    "\n",
    "    level = 1 - float(i)/len(cnts)  # 面積順に色を付けたかったのでこんなことをしている。\n",
    "    if len(approx) == 4:\n",
    "        cv2.drawContours(lines, [approx], -1, (0, 0, 255*level), 2)\n",
    "        if warp is None:\n",
    "            warp = approx.copy()  # 一番面積の大きな四角形をwarpに保存。\n",
    "    else:\n",
    "        cv2.drawContours(lines, [approx], -1, (0, 255*level, 0), 2)\n",
    "\n",
    "    for pos in approx:\n",
    "        cv2.circle(lines, tuple(pos[0]), 4, (255*level, 0, 0))"
   ]
  },
  {
   "cell_type": "code",
   "execution_count": 123,
   "metadata": {
    "collapsed": false
   },
   "outputs": [],
   "source": [
    "image2 = img.copy()\n",
    "image2 = cv2.drawContours(image2, cnts, 3, (255, 255, 255), -1)\n",
    "draw(image2)"
   ]
  },
  {
   "cell_type": "code",
   "execution_count": 6,
   "metadata": {
    "collapsed": true
   },
   "outputs": [],
   "source": [
    "image3 = img.copy()\n",
    "image3 = cv2.drawContours(image3, [cnts[0]], 0, (255, 255, 255), 3, maxLevel=0)\n",
    "draw(image3)"
   ]
  },
  {
   "cell_type": "code",
   "execution_count": 68,
   "metadata": {
    "collapsed": false
   },
   "outputs": [],
   "source": [
    "img2, cnts2, hie2 = cv2.findContours(canny, cv2.RETR_CCOMP, cv2.CHAIN_APPROX_SIMPLE)  # 抽出した輪郭に近似する直線（？）を探す。\n",
    "cnts2.sort(key=cv2.contourArea, reverse=True)  # 面積が大きい順に並べ替える。"
   ]
  },
  {
   "cell_type": "code",
   "execution_count": 98,
   "metadata": {
    "collapsed": false
   },
   "outputs": [],
   "source": [
    "contourImage = img2.copy()\n",
    "contourImage12 = img2.copy()\n",
    "contourImage2 = img2.copy()\n",
    "contourImage22 = img2.copy()\n",
    "for i in range(len(cnts2)):\n",
    "    if (hie2[0][i][3] >= 0):   # has parent, inner (hole) contour of a closed edge (looks good)\n",
    "        cv2.drawContours(contourImage, cnts2, i, (255, 255, 255), 1, 8)\n",
    "        cv2.drawContours(contourImage12, cnts2, i, (255, 255, 255), cv2.FILLED)\n",
    "    if hie2[0][i][2] >= 0:\n",
    "        cv2.drawContours(contourImage2, cnts2, i, (255, 255, 255), 1, 8)\n",
    "        cv2.drawContours(contourImage22, cnts2, i, (255, 255, 255), cv2.FILLED)\n",
    "draw(contourImage)\n",
    "draw(contourImage12)\n",
    "draw(contourImage2)\n",
    "draw(contourImage22)"
   ]
  },
  {
   "cell_type": "code",
   "execution_count": 70,
   "metadata": {
    "collapsed": true
   },
   "outputs": [],
   "source": [
    "image22 = img.copy()\n",
    "image22 = cv2.drawContours(image22, cnts2, -1, (255, 255, 255), 4)\n",
    "draw(image22)"
   ]
  },
  {
   "cell_type": "code",
   "execution_count": 59,
   "metadata": {
    "collapsed": false
   },
   "outputs": [],
   "source": [
    "for cnt in cnts2:\n",
    "    aa = img.copy()\n",
    "    cv2.drawContours(aa, [cnt], 0, (255,255,255), 3)\n",
    "    draw(aa)"
   ]
  },
  {
   "cell_type": "code",
   "execution_count": 99,
   "metadata": {
    "collapsed": false
   },
   "outputs": [],
   "source": [
    "aa = img.copy()\n",
    "cv2.drawContours(aa, cnts2, 3, (255,255,255), cv2.FILLED)\n",
    "draw(aa)"
   ]
  },
  {
   "cell_type": "code",
   "execution_count": 71,
   "metadata": {
    "collapsed": false
   },
   "outputs": [
    {
     "data": {
      "text/plain": [
       "[244.5, 211.5, 104.5, 103.5, 99.5, 44.5, 37.5, 31.0, 26.0, 23.5]"
      ]
     },
     "execution_count": 71,
     "metadata": {},
     "output_type": "execute_result"
    }
   ],
   "source": [
    "[cv2.contourArea(c) for c in cnts2[:10]]"
   ]
  },
  {
   "cell_type": "code",
   "execution_count": 83,
   "metadata": {
    "collapsed": false
   },
   "outputs": [
    {
     "data": {
      "text/plain": [
       "[8, 9, 11, 16, 17, 18, 25, 27, 30, 37]"
      ]
     },
     "execution_count": 83,
     "metadata": {},
     "output_type": "execute_result"
    }
   ],
   "source": [
    "[i for i, h in enumerate(hie2[0]) if h[3]>0]"
   ]
  },
  {
   "cell_type": "code",
   "execution_count": 67,
   "metadata": {
    "collapsed": false
   },
   "outputs": [
    {
     "data": {
      "text/plain": [
       "[231, 19, 804, 14, 62, 146, 13, 109, 34, 46]"
      ]
     },
     "execution_count": 67,
     "metadata": {},
     "output_type": "execute_result"
    }
   ],
   "source": [
    "[len(c) for c in cnts2[:10]]"
   ]
  },
  {
   "cell_type": "code",
   "execution_count": 88,
   "metadata": {
    "collapsed": false
   },
   "outputs": [
    {
     "data": {
      "text/plain": [
       "172800"
      ]
     },
     "execution_count": 88,
     "metadata": {},
     "output_type": "execute_result"
    }
   ],
   "source": [
    "img.shape[0] * img.shape[1]"
   ]
  },
  {
   "cell_type": "code",
   "execution_count": 124,
   "metadata": {
    "collapsed": false
   },
   "outputs": [],
   "source": [
    "newImg = img.copy()\n",
    "newCnts = cnts.copy()\n",
    "for k, cnt in enumerate(cnts):\n",
    "    epsilon = 0.002*cv2.arcLength(cnt,True)\n",
    "    newCnts[k] = cv2.approxPolyDP(cnt, epsilon, True);\n",
    "    \n",
    "newCnts.sort(key=cv2.contourArea, reverse=True)\n",
    "# cout << contours.size() << endl;\n",
    "for cnt in newCnts:\n",
    "    for i in range(len(cnt)):\n",
    "        cv2.line(newImg, tuple(cnt[i][0]), tuple(cnt[i-1][0]), (255, 255, 255),4);\n",
    "#     //cout << contours[k][i] << endl;\n",
    "draw(newImg)"
   ]
  },
  {
   "cell_type": "code",
   "execution_count": 125,
   "metadata": {
    "collapsed": false
   },
   "outputs": [],
   "source": [
    "nn = img.copy()\n",
    "cv2.drawContours(nn, newCnts, -1, (255,255,255), cv2.FILLED)\n",
    "draw(nn)"
   ]
  },
  {
   "cell_type": "code",
   "execution_count": 144,
   "metadata": {
    "collapsed": false
   },
   "outputs": [
    {
     "ename": "TypeError",
     "evalue": "Required argument 'object' (pos 1) not found",
     "output_type": "error",
     "traceback": [
      "\u001b[0;31m---------------------------------------------------------------------------\u001b[0m",
      "\u001b[0;31mTypeError\u001b[0m                                 Traceback (most recent call last)",
      "\u001b[0;32m<ipython-input-144-cbeeaa8cc004>\u001b[0m in \u001b[0;36m<module>\u001b[0;34m()\u001b[0m\n\u001b[0;32m----> 1\u001b[0;31m \u001b[0ma\u001b[0m \u001b[0;34m=\u001b[0m\u001b[0mnp\u001b[0m\u001b[0;34m.\u001b[0m\u001b[0marray\u001b[0m\u001b[0;34m(\u001b[0m\u001b[0;34m)\u001b[0m\u001b[0;34m\u001b[0m\u001b[0m\n\u001b[0m",
      "\u001b[0;31mTypeError\u001b[0m: Required argument 'object' (pos 1) not found"
     ]
    }
   ],
   "source": [
    "cc = img.copy()\n",
    "# cv2.drawContours(cc, cnts, -1, (255,255,255), 2 );\n",
    "\n",
    "convex_hull_points = [];\n",
    "pts = []\n",
    "for cnt in cnts:\n",
    "    for pnt in cnt:\n",
    "        pts.append(tuple(pnt[0]))\n",
    "convex_hull_points = cv2.convexHull(np.array(pts))\n",
    "\n",
    "cv2.fillConvexPoly( cc, convex_hull_points, (255,255,255));\n",
    "draw(cc)"
   ]
  },
  {
   "cell_type": "code",
   "execution_count": 107,
   "metadata": {
    "collapsed": false
   },
   "outputs": [],
   "source": [
    "# // Prune contours\n",
    "maxArea = 0.0;\n",
    "for cnt in cnts:\n",
    "    if cv2.contourArea(cnt) >= maxArea:\n",
    "        maxArea = cv2.contourArea(cnt);\n",
    "\n",
    "minArea = 0.20 * maxArea;\n",
    "prunedContours = []\n",
    "for cnt in cnts:\n",
    "    if cv2.contourArea(cnt) >= minArea:\n",
    "        prunedContours.append(cnt);\n",
    "prunedContours = np.array(prunedContours)"
   ]
  },
  {
   "cell_type": "code",
   "execution_count": 114,
   "metadata": {
    "collapsed": false
   },
   "outputs": [],
   "source": [
    "smoothedContours = prunedContours.copy()\n",
    "G = cv2.transpose(cv2.getGaussianKernel(11, 4.0, cv2.CV_32FC1))\n",
    "for i, cnt in enumerate(smoothedContours):\n",
    "    x = []\n",
    "    y = []\n",
    "    for pnt in cnt:\n",
    "        x.append(pnt[0][0])\n",
    "        y.append(pnt[0][1])\n",
    "    x = np.array(x, dtype=np.float32)\n",
    "    y = np.array(y, dtype=np.float32)\n",
    "\n",
    "    xSmooth = cv2.filter2D(x, cv2.CV_32FC1, G)\n",
    "    ySmooth = cv2.filter2D(y, cv2.CV_32FC1, G)\n",
    "    for j in range(len(cnt)):\n",
    "        cnt[j] = ((xSmooth[j][0], ySmooth[j][0]))\n"
   ]
  },
  {
   "cell_type": "code",
   "execution_count": 116,
   "metadata": {
    "collapsed": false
   },
   "outputs": [],
   "source": [
    "ww = img.copy()\n",
    "cv2.drawContours(ww, smoothedContours, -1, (255,255,255), 4)\n",
    "draw(ww)"
   ]
  },
  {
   "cell_type": "code",
   "execution_count": 111,
   "metadata": {
    "collapsed": false
   },
   "outputs": [
    {
     "data": {
      "text/plain": [
       "array([[[221, 135]],\n",
       "\n",
       "       [[220, 136]],\n",
       "\n",
       "       [[219, 136]],\n",
       "\n",
       "       [[220, 136]],\n",
       "\n",
       "       [[221, 135]],\n",
       "\n",
       "       [[223, 137]],\n",
       "\n",
       "       [[223, 138]],\n",
       "\n",
       "       [[222, 138]],\n",
       "\n",
       "       [[221, 138]],\n",
       "\n",
       "       [[220, 140]],\n",
       "\n",
       "       [[219, 138]],\n",
       "\n",
       "       [[219, 138]],\n",
       "\n",
       "       [[218, 138]],\n",
       "\n",
       "       [[217, 138]],\n",
       "\n",
       "       [[216, 138]],\n",
       "\n",
       "       [[217, 138]],\n",
       "\n",
       "       [[219, 138]],\n",
       "\n",
       "       [[220, 140]],\n",
       "\n",
       "       [[221, 138]],\n",
       "\n",
       "       [[223, 138]],\n",
       "\n",
       "       [[223, 137]],\n",
       "\n",
       "       [[224, 136]],\n",
       "\n",
       "       [[222, 136]]], dtype=int32)"
      ]
     },
     "execution_count": 111,
     "metadata": {},
     "output_type": "execute_result"
    }
   ],
   "source": [
    "prunedContours[0]"
   ]
  },
  {
   "cell_type": "code",
   "execution_count": 139,
   "metadata": {
    "collapsed": true
   },
   "outputs": [],
   "source": [
    "erosion_size = 10\n",
    "e_dst = orig.copy()\n",
    "e_element = cv2.getStructuringElement(cv2.MORPH_RECT, (2 * erosion_size + 1, 2 * erosion_size + 1),\n",
    "                                    (erosion_size, erosion_size))\n",
    "# /// Apply the erosion operation\n",
    "e_dst = cv2.erode(e_dst, element)\n",
    "draw(e_dst)"
   ]
  },
  {
   "cell_type": "code",
   "execution_count": 141,
   "metadata": {
    "collapsed": false
   },
   "outputs": [],
   "source": [
    "d_dst = orig.copy()\n",
    "dilation_size = 21\n",
    "dilation_type = cv2.MORPH_RECT #cv2.MORPH_CROSS cv2.MORPH_ELLIPSE\n",
    "d_element = cv2.getStructuringElement(dilation_type,\n",
    "                                (2 * dilation_size + 1, 2 * dilation_size + 1),\n",
    "                                (dilation_size, dilation_size))\n",
    "# // / Apply the dilation operation\n",
    "d_dst = cv2.dilate(d_dst, element)\n",
    "draw(d_dst)"
   ]
  },
  {
   "cell_type": "code",
   "execution_count": 135,
   "metadata": {
    "collapsed": true
   },
   "outputs": [],
   "source": [
    "draw(orig)"
   ]
  },
  {
   "cell_type": "code",
   "execution_count": 143,
   "metadata": {
    "collapsed": true
   },
   "outputs": [],
   "source": [
    "import test as t"
   ]
  },
  {
   "cell_type": "code",
   "execution_count": 157,
   "metadata": {
    "collapsed": false
   },
   "outputs": [],
   "source": [
    "draw(t.canny(t.dilation(t.erosion(orig, 3), 3)))"
   ]
  },
  {
   "cell_type": "code",
   "execution_count": 193,
   "metadata": {
    "collapsed": false
   },
   "outputs": [],
   "source": [
    "aa = t.canny(t.dilation(t.erosion(orig, 0), 0))\n",
    "aacnt = t.contours(aa)\n",
    "aaa = aa.copy()\n",
    "aaa = cv2.drawContours(aaa, aacnt, -1, (255, 255, 255), cv2.FILLED)\n",
    "draw(aaa)"
   ]
  },
  {
   "cell_type": "code",
   "execution_count": 212,
   "metadata": {
    "collapsed": false
   },
   "outputs": [
    {
     "name": "stdout",
     "output_type": "stream",
     "text": [
      "[array([-1,  4,  6, -1], dtype=int32)]\n",
      "[array([-1, -1, -1,  5], dtype=int32)]\n"
     ]
    }
   ],
   "source": [
    "a1, cnts, hie = cv2.findContours(t.canny(t.dilation(orig,1)), cv2.RETR_CCOMP, cv2.CHAIN_APPROX_SIMPLE)\n",
    "cnts.sort(key=cv2.contourArea, reverse=True)\n",
    "print([h for h in hie[0] if h[2]>=0])\n",
    "print([h for h in hie[0] if h[3]>=0])\n",
    "draw(cv2.drawContours(orig.copy(), cnts, 0, (255, 255, 255), cv2.FILLED))"
   ]
  },
  {
   "cell_type": "code",
   "execution_count": null,
   "metadata": {
    "collapsed": false
   },
   "outputs": [],
   "source": []
  },
  {
   "cell_type": "code",
   "execution_count": null,
   "metadata": {
    "collapsed": true
   },
   "outputs": [],
   "source": []
  }
 ],
 "metadata": {
  "kernelspec": {
   "display_name": "Python 3",
   "language": "python",
   "name": "python3"
  },
  "language_info": {
   "codemirror_mode": {
    "name": "ipython",
    "version": 3
   },
   "file_extension": ".py",
   "mimetype": "text/x-python",
   "name": "python",
   "nbconvert_exporter": "python",
   "pygments_lexer": "ipython3",
   "version": "3.4.3"
  }
 },
 "nbformat": 4,
 "nbformat_minor": 0
}
