{
 "cells": [
  {
   "cell_type": "code",
   "execution_count": 7,
   "metadata": {
    "collapsed": true
   },
   "outputs": [],
   "source": [
    "import test as t\n",
    "import numpy as np\n",
    "import cv2"
   ]
  },
  {
   "cell_type": "code",
   "execution_count": 31,
   "metadata": {
    "collapsed": true
   },
   "outputs": [],
   "source": [
    "fuku = t.load('fuku.jpg')\n",
    "image = t.load('images.jpg')\n",
    "tast = t.load('taster1.png')\n",
    "ririko = t.load('ririko7.jpg')"
   ]
  },
  {
   "cell_type": "code",
   "execution_count": 3,
   "metadata": {
    "collapsed": true
   },
   "outputs": [],
   "source": [
    "t.draw(orig)"
   ]
  },
  {
   "cell_type": "code",
   "execution_count": 62,
   "metadata": {
    "collapsed": false
   },
   "outputs": [],
   "source": [
    "a = t.canny(t.dilation(fuku, 1))\n",
    "t.draw(t.draw_contours(a, t.contours(a, mode=cv2.RETR_LIST), contour_ids=0))"
   ]
  },
  {
   "cell_type": "code",
   "execution_count": 61,
   "metadata": {
    "collapsed": false
   },
   "outputs": [],
   "source": [
    "t.draw(t.dilation(t.erosion(image,5),0))\n",
    "a = t.canny(t.dilation(t.erosion(image,3),3), thres1=10, thres2=50)\n",
    "# t.draw(a)\n",
    "t.draw(t.draw_contours(a, t.contours(a, mode=cv2.RETR_CCOMP), contour_ids=0, thickness=-1))"
   ]
  },
  {
   "cell_type": "code",
   "execution_count": 21,
   "metadata": {
    "collapsed": true
   },
   "outputs": [],
   "source": [
    "a = t.canny(t.dilation(tast, 1))\n",
    "t.draw(t.draw_contours(a, t.contours(a, mode=cv2.RETR_LIST), contour_ids=0))"
   ]
  },
  {
   "cell_type": "code",
   "execution_count": 28,
   "metadata": {
    "collapsed": true
   },
   "outputs": [],
   "source": [
    "a = t.canny(t.dilation(t.erosion(ririko, 5),1))\n",
    "t.draw(t.draw_contours(a, t.contours(a, mode=cv2.RETR_LIST), contour_ids=0))"
   ]
  },
  {
   "cell_type": "code",
   "execution_count": null,
   "metadata": {
    "collapsed": true
   },
   "outputs": [],
   "source": []
  }
 ],
 "metadata": {
  "kernelspec": {
   "display_name": "Python 3",
   "language": "python",
   "name": "python3"
  },
  "language_info": {
   "codemirror_mode": {
    "name": "ipython",
    "version": 3
   },
   "file_extension": ".py",
   "mimetype": "text/x-python",
   "name": "python",
   "nbconvert_exporter": "python",
   "pygments_lexer": "ipython3",
   "version": "3.4.3"
  }
 },
 "nbformat": 4,
 "nbformat_minor": 0
}
